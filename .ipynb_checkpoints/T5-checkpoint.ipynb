{
 "cells": [
  {
   "cell_type": "markdown",
   "id": "1c79b45a-caf1-426e-a074-c761cd5f2fde",
   "metadata": {},
   "source": [
    "<h1>Image classifier</h1>\n",
    "<h3>Imports necessary libraries to load images and using arrays</h3>"
   ]
  },
  {
   "cell_type": "code",
   "execution_count": 1,
   "id": "85e2db1f-2120-4250-bbe6-cc9d09a9e93e",
   "metadata": {},
   "outputs": [],
   "source": [
    "from PIL import Image\n",
    "import numpy as np"
   ]
  },
  {
   "cell_type": "markdown",
   "id": "f46c3244-dee0-42b8-a71d-275a96e171cd",
   "metadata": {},
   "source": [
    "<h3>Calculates mean of red, green and clue channels and returns them</h3>"
   ]
  },
  {
   "cell_type": "code",
   "execution_count": 2,
   "id": "c204ff69-66eb-4ff2-9e1b-5ffb939a54ca",
   "metadata": {},
   "outputs": [],
   "source": [
    "def image_means(image_arr):\n",
    "    red_mean = image_arr[:, :, 0].mean()\n",
    "    blue_mean = image_arr[:, :, 2].mean()\n",
    "    green_mean = image_arr[:, :, 1].mean()\n",
    "    return (red_mean, green_mean, blue_mean)"
   ]
  },
  {
   "cell_type": "markdown",
   "id": "779a03c8-b830-4ce5-8f95-2d221a2897b1",
   "metadata": {},
   "source": [
    "<h3>These 2 cells calculate means of rgb channels for each class</h3>"
   ]
  },
  {
   "cell_type": "code",
   "execution_count": 3,
   "id": "ba2d14a5-17a7-4c2d-901d-4b113becf02b",
   "metadata": {},
   "outputs": [
    {
     "name": "stdout",
     "output_type": "stream",
     "text": [
      "86.92504903595577 87.12482671884321 56.05092727300416\n"
     ]
    }
   ],
   "source": [
    "red_mean_forest, blue_mean_forest, green_mean_forest = 0, 0, 0\n",
    "image_arrs = []\n",
    "for i in range(1,43):\n",
    "    image = Image.open(f\"./image/forest/j{i}.jpg\")\n",
    "    image_array = np.array(image)\n",
    "    r, g, b = image_means(image_array)\n",
    "    image_arrs.append(image_array)\n",
    "    red_mean_forest += r\n",
    "    green_mean_forest += g\n",
    "    blue_mean_forest += b\n",
    "red_mean_forest, blue_mean_forest, green_mean_forest = red_mean_forest/45, blue_mean_forest/45, green_mean_forest/45\n",
    "print(red_mean_forest, green_mean_forest, blue_mean_forest)"
   ]
  },
  {
   "cell_type": "code",
   "execution_count": 4,
   "id": "d2d0969d-7a2c-4244-8629-65705eac4415",
   "metadata": {},
   "outputs": [
    {
     "name": "stdout",
     "output_type": "stream",
     "text": [
      "81.28688323481221 115.54921885211881 142.72992359846458\n"
     ]
    }
   ],
   "source": [
    "red_mean_sea, blue_mean_sea, green_mean_sea = 0, 0, 0\n",
    "for i in range(1,41):\n",
    "    image = Image.open(f\"./image/sea/s{i}.jpg\")\n",
    "    image_array = np.array(image)\n",
    "    r, g, b = image_means(image_array)\n",
    "    image_arrs.append(image_array)\n",
    "    red_mean_sea += r\n",
    "    blue_mean_sea += b\n",
    "    green_mean_sea += g\n",
    "red_mean_sea, blue_mean_sea, green_mean_sea = red_mean_sea/45, blue_mean_sea/45, green_mean_sea/45\n",
    "print(red_mean_sea, green_mean_sea, blue_mean_sea)"
   ]
  },
  {
   "cell_type": "markdown",
   "id": "3853ed1d-2647-4e14-8bc3-3530b735e9c1",
   "metadata": {},
   "source": [
    "<h3>Here we calculate the border of RGB channels to classify images based on</h3>"
   ]
  },
  {
   "cell_type": "code",
   "execution_count": 5,
   "id": "b13fb473-b8b3-4705-9dcf-65961f106f33",
   "metadata": {},
   "outputs": [],
   "source": [
    "red_border = (red_mean_forest + red_mean_sea) / 2\n",
    "green_border = (green_mean_forest + green_mean_sea) / 2\n",
    "blue_border = (blue_mean_forest + blue_mean_sea) / 2"
   ]
  },
  {
   "cell_type": "code",
   "execution_count": 6,
   "id": "55dbb617-4087-4c77-beb8-54512eedf9b2",
   "metadata": {},
   "outputs": [
    {
     "name": "stdout",
     "output_type": "stream",
     "text": [
      "84.105966135384 101.33702278548101 99.39042543573437\n"
     ]
    }
   ],
   "source": [
    "print(red_border, green_border, blue_border)"
   ]
  },
  {
   "cell_type": "markdown",
   "id": "74013d9b-c479-49d2-b958-321ca21cd326",
   "metadata": {},
   "source": [
    "<h3>The predict function, predicts if an image is in class 1 (forest) or not. There are 2 solutions for these. Commented one checks if at least 2 of RGB channels belong to sea border or not. And the one I use here is to calculate deffernces of each channel by border and if the overall defference is a negative number it belongs to class 1 (forest). I used \"red_border - r\" cause the mean red color of the sea is lower than red border while blue and green channel means are higher than borders</h3>"
   ]
  },
  {
   "cell_type": "code",
   "execution_count": 7,
   "id": "7c78e2c8-e169-409e-8e60-227f10a08600",
   "metadata": {},
   "outputs": [],
   "source": [
    "def predict(image_arr):\n",
    "    r, g, b = image_means(image_arr)\n",
    "    ra = red_border - r\n",
    "    ga = g - green_border\n",
    "    ba = b - blue_border\n",
    "    overall = ra + ba + ga\n",
    "    if overall > 0 :\n",
    "        return 0\n",
    "    return 1\n",
    "    #if (r < red_border and (b > blue_border or g > green_border)) or (b > blue_border and g > green_border):\n",
    "    #    return 0\n",
    "    #return 1\n"
   ]
  },
  {
   "cell_type": "markdown",
   "id": "7e7e49b9-fff4-44dc-a53f-3b1ddd1ace26",
   "metadata": {},
   "source": [
    "<h3>There are 42 forest pictures and 40 sea pictures. I used the predict function on each to sea if my model works well</h3>"
   ]
  },
  {
   "cell_type": "code",
   "execution_count": 8,
   "id": "c36b3eeb-c6bb-445c-8bab-b977734aeb78",
   "metadata": {},
   "outputs": [],
   "source": [
    "true_labels = np.array([1]*42 + [0]*40)\n",
    "predict = np.array([predict(image_arr) for image_arr in image_arrs])"
   ]
  },
  {
   "cell_type": "markdown",
   "id": "9a322e17-ac45-47b3-bd2d-3ad59d40e2ae",
   "metadata": {},
   "source": [
    "<h3>Here I calculate the confusion matrix based on true labels and predicted ones</h3>"
   ]
  },
  {
   "cell_type": "code",
   "execution_count": 9,
   "id": "3ca00c0f-af6d-40f5-9e18-cb8bf5249b24",
   "metadata": {},
   "outputs": [],
   "source": [
    "TP, TN, FN, FP = 0,0,0,0\n",
    "for i in range(len(true_labels)):\n",
    "    if true_labels[i] == predict[i]:\n",
    "        if predict[i] == 1:\n",
    "            TP += 1\n",
    "        else :\n",
    "            TN += 1\n",
    "    elif true_labels[i] > predict[i] :\n",
    "        FN += 1\n",
    "    else :\n",
    "        FP += 1"
   ]
  },
  {
   "cell_type": "code",
   "execution_count": 10,
   "id": "7f18481a-58c6-4cf5-9350-69f410de764e",
   "metadata": {},
   "outputs": [
    {
     "data": {
      "text/plain": [
       "[[38, 4], [2, 38]]"
      ]
     },
     "execution_count": 10,
     "metadata": {},
     "output_type": "execute_result"
    }
   ],
   "source": [
    "confusion_matrix = [[TP, FN], [FP, TN]]\n",
    "confusion_matrix"
   ]
  },
  {
   "cell_type": "markdown",
   "id": "3d2515dc-e8b5-47f9-b0db-3343507c6356",
   "metadata": {},
   "source": [
    "<h3>Here I calculate the accuracy, precision and recall for my model</h3>"
   ]
  },
  {
   "cell_type": "code",
   "execution_count": 11,
   "id": "55d78b3c-e4c2-4f5c-ac5b-7db46c7c66df",
   "metadata": {},
   "outputs": [
    {
     "name": "stdout",
     "output_type": "stream",
     "text": [
      "accuracy = 0.926829268292683 \tprecision = 0.95 \trecall = 0.9047619047619048\n"
     ]
    }
   ],
   "source": [
    "accuracy = (confusion_matrix[0][0] + confusion_matrix[1][1])/82\n",
    "precision = confusion_matrix[0][0]/(confusion_matrix[0][0] + confusion_matrix[1][0])\n",
    "recall = confusion_matrix[0][0]/(confusion_matrix[0][0] + confusion_matrix[0][1])\n",
    "print(\"accuracy =\",accuracy, \"\\tprecision =\", precision, \"\\trecall =\", recall)"
   ]
  },
  {
   "cell_type": "code",
   "execution_count": null,
   "id": "8e3e504c-d73f-4066-b310-f00756389e73",
   "metadata": {},
   "outputs": [],
   "source": []
  }
 ],
 "metadata": {
  "kernelspec": {
   "display_name": "Python 3 (ipykernel)",
   "language": "python",
   "name": "python3"
  },
  "language_info": {
   "codemirror_mode": {
    "name": "ipython",
    "version": 3
   },
   "file_extension": ".py",
   "mimetype": "text/x-python",
   "name": "python",
   "nbconvert_exporter": "python",
   "pygments_lexer": "ipython3",
   "version": "3.12.7"
  }
 },
 "nbformat": 4,
 "nbformat_minor": 5
}
